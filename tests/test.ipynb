{
 "cells": [
  {
   "cell_type": "code",
   "execution_count": 9,
   "metadata": {},
   "outputs": [],
   "source": [
    "import labhelper as hp\n",
    "import sympy as sp"
   ]
  },
  {
   "cell_type": "code",
   "execution_count": 10,
   "metadata": {},
   "outputs": [
    {
     "name": "stdout",
     "output_type": "stream",
     "text": [
      "Variables:\n"
     ]
    },
    {
     "data": {
      "image/png": "[encoded data removed]",
      "text/latex": [
       "$\\displaystyle \\left[ T, \\  B, \\  R_{\\infty}\\right]$"
      ],
      "text/plain": [
       "[T, B, R_{\\infty}]"
      ]
     },
     "metadata": {},
     "output_type": "display_data"
    },
    {
     "name": "stdout",
     "output_type": "stream",
     "text": [
      "Constants:\n"
     ]
    },
    {
     "data": {
      "image/png": "[encoded data removed]",
      "text/latex": [
       "$\\displaystyle \\left[ \\right]$"
      ],
      "text/plain": [
       "[]"
      ]
     },
     "metadata": {},
     "output_type": "display_data"
    },
    {
     "name": "stdout",
     "output_type": "stream",
     "text": [
      "Function:\n"
     ]
    },
    {
     "data": {
      "image/png": "[encoded data removed]",
      "text/latex": [
       "$\\displaystyle R_{\\infty} e^{\\frac{B}{T}}$"
      ],
      "text/plain": [
       "            B\n",
       "            ─\n",
       "            T\n",
       "R_{\\infty}⋅ℯ "
      ]
     },
     "metadata": {},
     "output_type": "display_data"
    },
    {
     "name": "stdout",
     "output_type": "stream",
     "text": [
      "Error Function:\n"
     ]
    },
    {
     "data": {
      "image/png": "[encoded data removed]",
      "text/latex": [
       "$\\displaystyle \\sqrt{\\left(\\Delta B \\frac{R_{\\infty} e^{\\frac{B}{T}}}{T}\\right)^{2} + \\left(\\Delta R_{\\infty} e^{\\frac{B}{T}}\\right)^{2} + \\left(\\Delta T \\left(- \\frac{B R_{\\infty} e^{\\frac{B}{T}}}{T^{2}}\\right)\\right)^{2}}$"
      ],
      "text/plain": [
       "         _____________________________________________________________________\n",
       "        ╱                         2                                           \n",
       "       ╱  ⎛                     B⎞                          2   ⎛             \n",
       "      ╱   ⎜                     ─⎟    ⎛                   B⎞    ⎜             \n",
       "     ╱    ⎜                     T⎟    ⎜                   ─⎟    ⎜             \n",
       "    ╱     ⎜         R_{\\infty}⋅ℯ ⎟    ⎜                   T⎟    ⎜         -B⋅R\n",
       "   ╱      ⎜\\Delta B⋅─────────────⎟  + ⎝\\Delta R_{\\infty}⋅ℯ ⎠  + ⎜\\Delta T⋅────\n",
       "  ╱       ⎝               T      ⎠                              ⎜             \n",
       "╲╱                                                              ⎝             \n",
       "\n",
       "________________\n",
       "              2 \n",
       "           B ⎞  \n",
       "           ─ ⎟  \n",
       "           T ⎟  \n",
       "_{\\infty}⋅ℯ  ⎟  \n",
       "─────────────⎟  \n",
       "     2       ⎟  \n",
       "    T        ⎠  "
      ]
     },
     "metadata": {},
     "output_type": "display_data"
    }
   ],
   "source": [
    "R_eq1 = hp.Helper(func_str=\" R_{\\infty} * exp(B/T)\", vars_in=[\"T\",\"B\", \"R_{\\infty}\"])\n",
    "R_eq1.calculate_error_function()\n",
    "R_eq1.display_data()"
   ]
  },
  {
   "cell_type": "code",
   "execution_count": 12,
   "metadata": {},
   "outputs": [
    {
     "name": "stdout",
     "output_type": "stream",
     "text": [
      "Variables:\n"
     ]
    },
    {
     "data": {
      "image/png": "[encoded data removed]",
      "text/latex": [
       "$\\displaystyle \\left[ A, \\  B\\right]$"
      ],
      "text/plain": [
       "[A, B]"
      ]
     },
     "metadata": {},
     "output_type": "display_data"
    },
    {
     "name": "stdout",
     "output_type": "stream",
     "text": [
      "Constants:\n"
     ]
    },
    {
     "data": {
      "image/png": "[encoded data removed]",
      "text/latex": [
       "$\\displaystyle \\left[ \\right]$"
      ],
      "text/plain": [
       "[]"
      ]
     },
     "metadata": {},
     "output_type": "display_data"
    },
    {
     "name": "stdout",
     "output_type": "stream",
     "text": [
      "Function:\n"
     ]
    },
    {
     "data": {
      "image/png": "[encoded data removed]",
      "text/latex": [
       "$\\displaystyle \\frac{A}{B}$"
      ],
      "text/plain": [
       "A\n",
       "─\n",
       "B"
      ]
     },
     "metadata": {},
     "output_type": "display_data"
    }
   ],
   "source": [
    "h.display_data()"
   ]
  },
  {
   "cell_type": "code",
   "execution_count": 13,
   "metadata": {},
   "outputs": [
    {
     "data": {
      "image/png": "[encoded data removed]",
      "text/latex": [
       "$\\displaystyle \\sqrt{\\left(\\frac{\\Delta A}{B}\\right)^{2} + \\left(\\Delta B \\left(- \\frac{A}{B^{2}}\\right)\\right)^{2}}$"
      ],
      "text/plain": [
       "      _______________________________\n",
       "     ╱           2                 2 \n",
       "    ╱  ⎛\\Delta A⎞    ⎛         -A ⎞  \n",
       "   ╱   ⎜────────⎟  + ⎜\\Delta B⋅───⎟  \n",
       "  ╱    ⎝   B    ⎠    ⎜           2⎟  \n",
       "╲╱                   ⎝          B ⎠  "
      ]
     },
     "execution_count": 13,
     "metadata": {},
     "output_type": "execute_result"
    }
   ],
   "source": [
    "h.calculate_error_function()\n",
    "h.error_function"
   ]
  },
  {
   "cell_type": "code",
   "execution_count": 14,
   "metadata": {},
   "outputs": [
    {
     "ename": "ValueError",
     "evalue": "The given variables and/or constants are not the same as in the error function",
     "output_type": "error",
     "traceback": [
      "\u001b[1;31m---------------------------------------------------------------------------\u001b[0m",
      "\u001b[1;31mValueError\u001b[0m                                Traceback (most recent call last)",
      "\u001b[1;32mc:\\Dev\\Lab Helper\\tests\\test.ipynb Cell 6\u001b[0m line \u001b[0;36m1\n\u001b[1;32m----> <a href='vscode-notebook-cell:/c%3A/Dev/Lab%20Helper/tests/test.ipynb#W6sZmlsZQ%3D%3D?line=0'>1</a>\u001b[0m h\u001b[39m.\u001b[39;49mevaluate_error_function({\u001b[39m\"\u001b[39;49m\u001b[39mmu\u001b[39;49m\u001b[39m\"\u001b[39;49m: \u001b[39m1\u001b[39;49m, \u001b[39m\"\u001b[39;49m\u001b[39mepsilon\u001b[39;49m\u001b[39m\"\u001b[39;49m: \u001b[39m1\u001b[39;49m, \u001b[39m\"\u001b[39;49m\u001b[39mt_1\u001b[39;49m\u001b[39m\"\u001b[39;49m: \u001b[39m2\u001b[39;49m})\n",
      "File \u001b[1;32mc:\\Users\\Batres\\AppData\\Local\\Programs\\Python\\Python311\\Lib\\site-packages\\labhelper\\symbolic.py:114\u001b[0m, in \u001b[0;36mHelper.evaluate_error_function\u001b[1;34m(self, subs, as_float)\u001b[0m\n\u001b[0;32m    111\u001b[0m     \u001b[39mself\u001b[39m\u001b[39m.\u001b[39mcalculate_error_function()\n\u001b[0;32m    113\u001b[0m \u001b[39mif\u001b[39;00m \u001b[39mnot\u001b[39;00m \u001b[39mall\u001b[39m(item \u001b[39min\u001b[39;00m \u001b[39mself\u001b[39m\u001b[39m.\u001b[39mconsts_text \u001b[39m+\u001b[39m \u001b[39mself\u001b[39m\u001b[39m.\u001b[39mvars_text \u001b[39m+\u001b[39m \u001b[39mself\u001b[39m\u001b[39m.\u001b[39merrors_text \u001b[39mfor\u001b[39;00m item \u001b[39min\u001b[39;00m subs\u001b[39m.\u001b[39mkeys()):\n\u001b[1;32m--> 114\u001b[0m     \u001b[39mraise\u001b[39;00m \u001b[39mValueError\u001b[39;00m(\u001b[39m\"\u001b[39m\u001b[39mThe given variables and/or constants are not the same as in the error function\u001b[39m\u001b[39m\"\u001b[39m)\n\u001b[0;32m    115\u001b[0m \u001b[39mreturn\u001b[39;00m \u001b[39mfloat\u001b[39m(\u001b[39mself\u001b[39m\u001b[39m.\u001b[39merror_function\u001b[39m.\u001b[39mevalf(subs\u001b[39m=\u001b[39msubs)) \u001b[39mif\u001b[39;00m as_float \u001b[39melse\u001b[39;00m \u001b[39mself\u001b[39m\u001b[39m.\u001b[39merror_function\u001b[39m.\u001b[39mevalf(subs\u001b[39m=\u001b[39msubs)\n",
      "\u001b[1;31mValueError\u001b[0m: The given variables and/or constants are not the same as in the error function"
     ]
    }
   ],
   "source": [
    "h.evaluate_error_function({\"mu\": 1, \"epsilon\": 1, \"t_1\": 2})"
   ]
  },
  {
   "cell_type": "code",
   "execution_count": null,
   "metadata": {},
   "outputs": [
    {
     "ename": "ValueError",
     "evalue": "The given variables and/or constants are not the same as in the error function",
     "output_type": "error",
     "traceback": [
      "\u001b[0;31m---------------------------------------------------------------------------\u001b[0m",
      "\u001b[0;31mValueError\u001b[0m                                Traceback (most recent call last)",
      "\u001b[1;32m/home/batres/Dev/Lab-Helper/tests/test.ipynb Cell 8\u001b[0m line \u001b[0;36m1\n\u001b[0;32m----> <a href='vscode-notebook-cell:/home/batres/Dev/Lab-Helper/tests/test.ipynb#W6sZmlsZQ%3D%3D?line=0'>1</a>\u001b[0m h\u001b[39m.\u001b[39;49msolve_error_function_for_variable(\u001b[39m\"\u001b[39;49m\u001b[39m\\\u001b[39;49m\u001b[39mDelta A\u001b[39;49m\u001b[39m\"\u001b[39;49m, \u001b[39m2.236\u001b[39;49m, {\u001b[39m\"\u001b[39;49m\u001b[39mA\u001b[39;49m\u001b[39m\"\u001b[39;49m: \u001b[39m1\u001b[39;49m, \u001b[39m\"\u001b[39;49m\u001b[39mB\u001b[39;49m\u001b[39m\"\u001b[39;49m: \u001b[39m1\u001b[39;49m, \u001b[39m\"\u001b[39;49m\u001b[39m\\\u001b[39;49m\u001b[39mDelta B\u001b[39;49m\u001b[39m\"\u001b[39;49m: \u001b[39m2\u001b[39;49m})\n",
      "File \u001b[0;32m~/.local/lib/python3.10/site-packages/labhelper/symbolic.py:123\u001b[0m, in \u001b[0;36mHelper.solve_error_function_for_variable\u001b[0;34m(self, variable_to_solve, function_value, rest_of_variables, symbolically)\u001b[0m\n\u001b[1;32m    121\u001b[0m     \u001b[39mraise\u001b[39;00m \u001b[39mValueError\u001b[39;00m(\u001b[39m\"\u001b[39m\u001b[39mmust provide rest_of_variables parameter, or set symbolically to True\u001b[39m\u001b[39m\"\u001b[39m)\n\u001b[1;32m    122\u001b[0m \u001b[39mif\u001b[39;00m \u001b[39mnot\u001b[39;00m \u001b[39mall\u001b[39m(item \u001b[39min\u001b[39;00m \u001b[39mself\u001b[39m\u001b[39m.\u001b[39mconsts_text \u001b[39m+\u001b[39m \u001b[39mself\u001b[39m\u001b[39m.\u001b[39mvars_text \u001b[39m+\u001b[39m \u001b[39mself\u001b[39m\u001b[39m.\u001b[39merrors_text \u001b[39mfor\u001b[39;00m item \u001b[39min\u001b[39;00m rest_of_variables\u001b[39m.\u001b[39mkeys()):\n\u001b[0;32m--> 123\u001b[0m     \u001b[39mraise\u001b[39;00m \u001b[39mValueError\u001b[39;00m(\u001b[39m\"\u001b[39m\u001b[39mThe given variables and/or constants are not the same as in the error function\u001b[39m\u001b[39m\"\u001b[39m)\n\u001b[1;32m    124\u001b[0m \u001b[39mreturn\u001b[39;00m sp\u001b[39m.\u001b[39msolve(sp\u001b[39m.\u001b[39mEquality(\u001b[39mself\u001b[39m\u001b[39m.\u001b[39merror_function\u001b[39m.\u001b[39mevalf(subs\u001b[39m=\u001b[39mrest_of_variables), function_value), sp\u001b[39m.\u001b[39mSymbol(variable_to_solve))\n",
      "\u001b[0;31mValueError\u001b[0m: The given variables and/or constants are not the same as in the error function"
     ]
    }
   ],
   "source": [
    "h.solve_error_function_for_variable(\"\\Delta A\", 2.236, {\"A\": 1, \"B\": 1, \"\\Delta B\": 2})"
   ]
  },
  {
   "cell_type": "code",
   "execution_count": null,
   "metadata": {},
   "outputs": [
    {
     "ename": "ValueError",
     "evalue": "value of variable_to_solve is not a parameter of error function",
     "output_type": "error",
     "traceback": [
      "\u001b[1;31m---------------------------------------------------------------------------\u001b[0m",
      "\u001b[1;31mValueError\u001b[0m                                Traceback (most recent call last)",
      "Cell \u001b[1;32mIn[8], line 1\u001b[0m\n\u001b[1;32m----> 1\u001b[0m h\u001b[39m.\u001b[39;49msolve_error_function_for_variable(\u001b[39m\"\u001b[39;49m\u001b[39m\\\u001b[39;49m\u001b[39mDelta A\u001b[39;49m\u001b[39m\"\u001b[39;49m, symbolically \u001b[39m=\u001b[39;49m \u001b[39mTrue\u001b[39;49;00m)\n",
      "File \u001b[1;32mc:\\Users\\Batres\\AppData\\Local\\Programs\\Python\\Python311\\Lib\\site-packages\\labhelper\\symbolic.py:117\u001b[0m, in \u001b[0;36mHelper.solve_error_function_for_variable\u001b[1;34m(self, variable_to_solve, function_value, rest_of_variables, symbolically)\u001b[0m\n\u001b[0;32m    115\u001b[0m     function_value \u001b[39m=\u001b[39m sp\u001b[39m.\u001b[39mSymbol(\u001b[39mself\u001b[39m\u001b[39m.\u001b[39merror_mark \u001b[39m+\u001b[39m \u001b[39m\"\u001b[39m\u001b[39mf\u001b[39m\u001b[39m\"\u001b[39m)\n\u001b[0;32m    116\u001b[0m     \u001b[39mif\u001b[39;00m variable_to_solve \u001b[39mnot\u001b[39;00m \u001b[39min\u001b[39;00m \u001b[39mself\u001b[39m\u001b[39m.\u001b[39mvars_text \u001b[39m+\u001b[39m \u001b[39mself\u001b[39m\u001b[39m.\u001b[39mconsts_text \u001b[39m+\u001b[39m \u001b[39mself\u001b[39m\u001b[39m.\u001b[39merrors_text:\n\u001b[1;32m--> 117\u001b[0m         \u001b[39mraise\u001b[39;00m \u001b[39mValueError\u001b[39;00m(\u001b[39m\"\u001b[39m\u001b[39mvalue of variable_to_solve is not a parameter of error function\u001b[39m\u001b[39m\"\u001b[39m)\n\u001b[0;32m    118\u001b[0m     \u001b[39mreturn\u001b[39;00m sp\u001b[39m.\u001b[39msolve(sp\u001b[39m.\u001b[39mEquality(\u001b[39mself\u001b[39m\u001b[39m.\u001b[39merror_function, function_value), sp\u001b[39m.\u001b[39mSymbol(variable_to_solve))\n\u001b[0;32m    119\u001b[0m \u001b[39melse\u001b[39;00m:\n",
      "\u001b[1;31mValueError\u001b[0m: value of variable_to_solve is not a parameter of error function"
     ]
    }
   ],
   "source": [
    "h.solve_error_function_for_variable(\"\\Delta A\", symbolically = True)"
   ]
  },
  {
   "cell_type": "code",
   "execution_count": null,
   "metadata": {},
   "outputs": [
    {
     "ename": "ValueError",
     "evalue": "The given variables and/or constants are not the same as in the error function",
     "output_type": "error",
     "traceback": [
      "\u001b[1;31m---------------------------------------------------------------------------\u001b[0m",
      "\u001b[1;31mValueError\u001b[0m                                Traceback (most recent call last)",
      "Cell \u001b[1;32mIn[9], line 1\u001b[0m\n\u001b[1;32m----> 1\u001b[0m h\u001b[39m.\u001b[39;49msolve_error_function_for_all_variables(function_value\u001b[39m=\u001b[39;49m\u001b[39m2.236\u001b[39;49m, rest_of_variables\u001b[39m=\u001b[39;49m{\u001b[39m\"\u001b[39;49m\u001b[39mA\u001b[39;49m\u001b[39m\"\u001b[39;49m: \u001b[39m1\u001b[39;49m, \u001b[39m\"\u001b[39;49m\u001b[39mB\u001b[39;49m\u001b[39m\"\u001b[39;49m: \u001b[39m1\u001b[39;49m, \u001b[39m\"\u001b[39;49m\u001b[39m\\\u001b[39;49m\u001b[39mDelta A\u001b[39;49m\u001b[39m\"\u001b[39;49m: \u001b[39m1\u001b[39;49m, \u001b[39m\"\u001b[39;49m\u001b[39m\\\u001b[39;49m\u001b[39mDelta B\u001b[39;49m\u001b[39m\"\u001b[39;49m: \u001b[39m2\u001b[39;49m})\n",
      "File \u001b[1;32mc:\\Users\\Batres\\AppData\\Local\\Programs\\Python\\Python311\\Lib\\site-packages\\labhelper\\symbolic.py:145\u001b[0m, in \u001b[0;36mHelper.solve_error_function_for_all_variables\u001b[1;34m(self, function_value, rest_of_variables, symbolically)\u001b[0m\n\u001b[0;32m    143\u001b[0m     \u001b[39mraise\u001b[39;00m \u001b[39mValueError\u001b[39;00m(\u001b[39m\"\u001b[39m\u001b[39mmust provide rest_of_variables and function_value parameters\u001b[39m\u001b[39m\"\u001b[39m)\n\u001b[0;32m    144\u001b[0m \u001b[39mif\u001b[39;00m \u001b[39mnot\u001b[39;00m \u001b[39mall\u001b[39m(item \u001b[39min\u001b[39;00m \u001b[39mself\u001b[39m\u001b[39m.\u001b[39mconsts_text \u001b[39m+\u001b[39m \u001b[39mself\u001b[39m\u001b[39m.\u001b[39mvars_text \u001b[39m+\u001b[39m \u001b[39mself\u001b[39m\u001b[39m.\u001b[39merrors_text \u001b[39mfor\u001b[39;00m item \u001b[39min\u001b[39;00m rest_of_variables\u001b[39m.\u001b[39mkeys()):\n\u001b[1;32m--> 145\u001b[0m     \u001b[39mraise\u001b[39;00m \u001b[39mValueError\u001b[39;00m(\u001b[39m\"\u001b[39m\u001b[39mThe given variables and/or constants are not the same as in the error function\u001b[39m\u001b[39m\"\u001b[39m)\n\u001b[0;32m    146\u001b[0m \u001b[39mfor\u001b[39;00m var \u001b[39min\u001b[39;00m \u001b[39mself\u001b[39m\u001b[39m.\u001b[39mvars:\n\u001b[0;32m    147\u001b[0m     dict_cpy \u001b[39m=\u001b[39m rest_of_variables\u001b[39m.\u001b[39mcopy()\n",
      "\u001b[1;31mValueError\u001b[0m: The given variables and/or constants are not the same as in the error function"
     ]
    }
   ],
   "source": [
    "h.solve_error_function_for_all_variables(function_value=2.236, rest_of_variables={\"A\": 1, \"B\": 1, \"\\Delta A\": 1, \"\\Delta B\": 2})"
   ]
  },
  {
   "cell_type": "code",
   "execution_count": null,
   "metadata": {},
   "outputs": [],
   "source": [
    "df = hp.df_create([\"Column 1\", \"Potatoes\", \"n\"], 8)\n",
    "split = hp.dataframe_to_latex(df).replace(r\"\\\\\", r\"\\hline\\\\\").replace(r\"\\hline\", r\"\\\\\", 1)\n",
    "hp.copy_to_clipboard(split)"
   ]
  },
  {
   "cell_type": "code",
   "execution_count": null,
   "metadata": {},
   "outputs": [
    {
     "data": {
      "text/html": [
       "<div>\n",
       "<style scoped>\n",
       "    .dataframe tbody tr th:only-of-type {\n",
       "        vertical-align: middle;\n",
       "    }\n",
       "\n",
       "    .dataframe tbody tr th {\n",
       "        vertical-align: top;\n",
       "    }\n",
       "\n",
       "    .dataframe thead th {\n",
       "        text-align: right;\n",
       "    }\n",
       "</style>\n",
       "<table border=\"1\" class=\"dataframe\">\n",
       "  <thead>\n",
       "    <tr style=\"text-align: right;\">\n",
       "      <th></th>\n",
       "      <th>Column 1</th>\n",
       "      <th>n</th>\n",
       "      <th>Potatoes</th>\n",
       "    </tr>\n",
       "  </thead>\n",
       "  <tbody>\n",
       "    <tr>\n",
       "      <th>0</th>\n",
       "      <td>0</td>\n",
       "      <td>0</td>\n",
       "      <td>0</td>\n",
       "    </tr>\n",
       "    <tr>\n",
       "      <th>1</th>\n",
       "      <td>0</td>\n",
       "      <td>0</td>\n",
       "      <td>0</td>\n",
       "    </tr>\n",
       "    <tr>\n",
       "      <th>2</th>\n",
       "      <td>0</td>\n",
       "      <td>0</td>\n",
       "      <td>0</td>\n",
       "    </tr>\n",
       "    <tr>\n",
       "      <th>3</th>\n",
       "      <td>0</td>\n",
       "      <td>0</td>\n",
       "      <td>0</td>\n",
       "    </tr>\n",
       "    <tr>\n",
       "      <th>4</th>\n",
       "      <td>0</td>\n",
       "      <td>0</td>\n",
       "      <td>0</td>\n",
       "    </tr>\n",
       "    <tr>\n",
       "      <th>5</th>\n",
       "      <td>0</td>\n",
       "      <td>0</td>\n",
       "      <td>0</td>\n",
       "    </tr>\n",
       "    <tr>\n",
       "      <th>6</th>\n",
       "      <td>0</td>\n",
       "      <td>0</td>\n",
       "      <td>0</td>\n",
       "    </tr>\n",
       "    <tr>\n",
       "      <th>7</th>\n",
       "      <td>0</td>\n",
       "      <td>0</td>\n",
       "      <td>0</td>\n",
       "    </tr>\n",
       "  </tbody>\n",
       "</table>\n",
       "</div>"
      ],
      "text/plain": [
       "   Column 1  n  Potatoes\n",
       "0         0  0         0\n",
       "1         0  0         0\n",
       "2         0  0         0\n",
       "3         0  0         0\n",
       "4         0  0         0\n",
       "5         0  0         0\n",
       "6         0  0         0\n",
       "7         0  0         0"
      ]
     },
     "execution_count": 10,
     "metadata": {},
     "output_type": "execute_result"
    }
   ],
   "source": [
    "hp.df_switch_columns(df, \"Potatoes\", \"n\")"
   ]
  },
  {
   "cell_type": "code",
   "execution_count": null,
   "metadata": {},
   "outputs": [
    {
     "data": {
      "image/png": "[encoded data removed]",
      "text/latex": [
       "$\\displaystyle 3.18244630528426$"
      ],
      "text/plain": [
       "3.182446305284263"
      ]
     },
     "execution_count": 11,
     "metadata": {},
     "output_type": "execute_result"
    }
   ],
   "source": [
    "hp.student_t_n(3, 0.95)"
   ]
  }
 ],
 "metadata": {
  "kernelspec": {
   "display_name": "Python 3",
   "language": "python",
   "name": "python3"
  },
  "language_info": {
   "codemirror_mode": {
    "name": "ipython",
    "version": 3
   },
   "file_extension": ".py",
   "mimetype": "text/x-python",
   "name": "python",
   "nbconvert_exporter": "python",
   "pygments_lexer": "ipython3",
   "version": "3.11.5"
  },
  "orig_nbformat": 4
 },
 "nbformat": 4,
 "nbformat_minor": 2
}
