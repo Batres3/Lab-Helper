{
 "cells": [
  {
   "cell_type": "code",
   "execution_count": 2,
   "metadata": {},
   "outputs": [],
   "source": [
    "import labhelper as hp\n",
    "from labhelper.unit_systems.SI import *\n",
    "import numpy as np\n",
    "import pandas as pd"
   ]
  },
  {
   "cell_type": "code",
   "execution_count": 3,
   "metadata": {},
   "outputs": [
    {
     "name": "stdout",
     "output_type": "stream",
     "text": [
      "[0.00402799 0.00320668 0.00336331]\n"
     ]
    },
    {
     "data": {
      "text/plain": [
       "[0.00403 J * K^-1 * kg^-1, 0.00321 J * K^-1 * kg^-1, 0.00336 J * K^-1 * kg^-1]"
      ]
     },
     "execution_count": 3,
     "metadata": {},
     "output_type": "execute_result"
    }
   ],
   "source": [
    "Cmass = 431.70 * gram\n",
    "C = 1.74e3 * joule / kelvin\n",
    "cwater = 4.184 * joule * kelvin**-1 * gram**-1\n",
    "a = hp.HelperNew(\"(m_c * c_p * (T_M - T_C) + C * (T_M - T_C)) / (m_s * (T_B - T_M))\", const_in=[\"c_p\"], vars_in=[\"m_c\", \"T_C\", \"T_M\", \"T_B\", \"m_s\", \"C\"])\n",
    "a[[\"C\", \"c_p\", \"m_c_err\", \"T_C_err\", \"T_M_err\", \"T_B_err\", \"m_s_err\", \"C_err\"]] = [C, cwater, 0.02, 0.1, 0.1, 0.1, 0.02, 0.01]\n",
    "hot = pd.DataFrame()\n",
    "hot[\"m_s\"] = [88.36, 90.86, 89.22]\n",
    "hot[\"m_s\"] = hot[\"m_s\"].mul(gram)\n",
    "hot[\"m_c\"] = [714.04, 703.58, 681.16]\n",
    "hot[\"m_c\"] = hot[\"m_c\"].map(lambda x: x*gram-Cmass)\n",
    "hot[\"T_B\"] = [97, 98, 95.5]\n",
    "hot[\"T_C\"] = [16.4, 15.6, 14.6]\n",
    "hot[\"T_M\"] = [21, 17.8, 17.8]\n",
    "hot[[\"T_C\", \"T_B\", \"T_M\"]] = hot[[\"T_C\", \"T_B\", \"T_M\"]].map(lambda x: (x+273)*kelvin)\n",
    "#hot[\"c_p\"] = hot.apply(evaluate, axis=1)\n",
    "#hot[\"c_p_err\"] = hot.apply(evaluate_err, axis=1)\n",
    "a.error(hot)"
   ]
  },
  {
   "cell_type": "code",
   "execution_count": 9,
   "metadata": {},
   "outputs": [
    {
     "data": {
      "text/plain": [
       "1 "
      ]
     },
     "execution_count": 9,
     "metadata": {},
     "output_type": "execute_result"
    }
   ],
   "source": [
    "(1 * kelvin)/ kelvin"
   ]
  },
  {
   "cell_type": "code",
   "execution_count": 5,
   "metadata": {},
   "outputs": [
    {
     "data": {
      "text/plain": [
       "array([0.08, 0.17])"
      ]
     },
     "execution_count": 5,
     "metadata": {},
     "output_type": "execute_result"
    }
   ],
   "source": [
    "a = hp.HelperNew(\"a**2 + b\", vars_in=[\"a\", \"b\"])\n",
    "a[\"aerr\"] = 0.1\n",
    "test = pd.DataFrame()\n",
    "test[\"a\"] = [1, 2]\n",
    "test[\"b\"] = [1, 1]\n",
    "test[\"Δb\"] = [0.2, 0.1]\n",
    "a.error(test)"
   ]
  }
 ],
 "metadata": {
  "kernelspec": {
   "display_name": "Python 3",
   "language": "python",
   "name": "python3"
  },
  "language_info": {
   "codemirror_mode": {
    "name": "ipython",
    "version": 3
   },
   "file_extension": ".py",
   "mimetype": "text/x-python",
   "name": "python",
   "nbconvert_exporter": "python",
   "pygments_lexer": "ipython3",
   "version": "3.11.5"
  },
  "orig_nbformat": 4
 },
 "nbformat": 4,
 "nbformat_minor": 2
}
