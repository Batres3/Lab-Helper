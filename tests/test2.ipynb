{
 "cells": [
  {
   "cell_type": "code",
   "execution_count": 1,
   "metadata": {},
   "outputs": [],
   "source": [
    "import labhelper as hp\n",
    "import sympy as sp"
   ]
  },
  {
   "cell_type": "code",
   "execution_count": 12,
   "metadata": {},
   "outputs": [],
   "source": [
    "string = \"\\Gamma / (m * o_{\\infty} + C) * (l + l_0)\"\n",
    "const = []\n",
    "var = [\"\\Gamma\", \"m\", \"o_{\\infty}\", \"C\", \"l\", \"l_0\"]"
   ]
  },
  {
   "cell_type": "code",
   "execution_count": 3,
   "metadata": {},
   "outputs": [
    {
     "data": {
      "text/plain": [
       "{'S': S, 'm': T, 'o_{\\\\infty}': o_{\\infty}, 'C': C, 'l': l, 'l_0': l_0}"
      ]
     },
     "execution_count": 3,
     "metadata": {},
     "output_type": "execute_result"
    }
   ],
   "source": [
    "text = var + const\n",
    "all_vars = [sp.Symbol(e) for e in text]\n",
    "all_vars[1] = sp.Symbol(\"T\")\n",
    "dict_in = {text[i]: all_vars[i] for i in range(len(text))}\n",
    "dict_in"
   ]
  },
  {
   "cell_type": "code",
   "execution_count": 4,
   "metadata": {},
   "outputs": [],
   "source": [
    "def list_swap(l: list, x, y):\n",
    "    if x not in l or y not in l:\n",
    "        ValueError(\"elements not in given list!\")\n",
    "    el = [l.index(x), l.index(y)]\n",
    "    l[el[0]], l[el[1]] = l[el[1]], l[el[0]]"
   ]
  },
  {
   "cell_type": "code",
   "execution_count": 5,
   "metadata": {},
   "outputs": [],
   "source": [
    "[list_swap(text, x, y) for x in text for y in text if x in y and text.index(x) < text.index(y)]\n",
    "uni = [str(chr(0x0F0 + i)) for i in range(len(text))]\n",
    "for i in range(len(text)):\n",
    "    string = string.replace(text[i], uni[i])\n",
    "\n",
    "dict_in = {uni[i]: all_vars[i] for i in range(len(text))}"
   ]
  },
  {
   "cell_type": "code",
   "execution_count": 6,
   "metadata": {},
   "outputs": [
    {
     "data": {
      "image/png": "[encoded data removed]",
      "text/latex": [
       "$\\displaystyle \\frac{S \\left(l + l_{0}\\right)}{C + T o_{\\infty}}$"
      ],
      "text/plain": [
       "   S⋅(l + l₀)   \n",
       "────────────────\n",
       "C + T⋅o_{\\infty}"
      ]
     },
     "execution_count": 6,
     "metadata": {},
     "output_type": "execute_result"
    }
   ],
   "source": [
    "sp.parse_expr(string, dict_in)"
   ]
  },
  {
   "cell_type": "code",
   "execution_count": 13,
   "metadata": {},
   "outputs": [
    {
     "name": "stdout",
     "output_type": "stream",
     "text": [
      "Variables:\n"
     ]
    },
    {
     "data": {
      "image/png": "[encoded data removed]",
      "text/latex": [
       "$\\displaystyle \\left[ \\Gamma, \\  m, \\  o_{\\infty}, \\  C, \\  l, \\  l_{0}\\right]$"
      ],
      "text/plain": [
       "[\\Gamma, m, o_{\\infty}, C, l, l₀]"
      ]
     },
     "metadata": {},
     "output_type": "display_data"
    },
    {
     "name": "stdout",
     "output_type": "stream",
     "text": [
      "Constants:\n"
     ]
    },
    {
     "data": {
      "image/png": "[encoded data removed]",
      "text/latex": [
       "$\\displaystyle \\left[ \\right]$"
      ],
      "text/plain": [
       "[]"
      ]
     },
     "metadata": {},
     "output_type": "display_data"
    },
    {
     "name": "stdout",
     "output_type": "stream",
     "text": [
      "Function:\n"
     ]
    },
    {
     "data": {
      "image/png": "[encoded data removed]",
      "text/latex": [
       "$\\displaystyle \\frac{\\Gamma \\left(l + l_{0}\\right)}{C + m o_{\\infty}}$"
      ],
      "text/plain": [
       "\\Gamma⋅(l + l₀) \n",
       "────────────────\n",
       "C + m⋅o_{\\infty}"
      ]
     },
     "metadata": {},
     "output_type": "display_data"
    },
    {
     "name": "stdout",
     "output_type": "stream",
     "text": [
      "Error Function:\n"
     ]
    },
    {
     "data": {
      "image/png": "[encoded data removed]",
      "text/latex": [
       "$\\displaystyle \\sqrt{\\left(\\Delta C \\left(- \\frac{\\Gamma \\left(l + l_{0}\\right)}{\\left(C + m o_{\\infty}\\right)^{2}}\\right)\\right)^{2} + \\left(\\Delta \\Gamma \\frac{l + l_{0}}{C + m o_{\\infty}}\\right)^{2} + \\left(\\Delta l \\frac{\\Gamma}{C + m o_{\\infty}}\\right)^{2} + \\left(\\Delta l_{0} \\frac{\\Gamma}{C + m o_{\\infty}}\\right)^{2} + \\left(\\Delta m \\left(- \\frac{\\Gamma o_{\\infty} \\left(l + l_{0}\\right)}{\\left(C + m o_{\\infty}\\right)^{2}}\\right)\\right)^{2} + \\left(\\Delta o_{\\infty} \\left(- \\frac{\\Gamma m \\left(l + l_{0}\\right)}{\\left(C + m o_{\\infty}\\right)^{2}}\\right)\\right)^{2}}$"
      ],
      "text/plain": [
       "      ________________________________________________________________________\n",
       "     ╱                               2                                   2    \n",
       "    ╱  ⎛          -\\Gamma⋅(l + l₀)  ⎞    ⎛                   l + l₀     ⎞    ⎛\n",
       "   ╱   ⎜\\Delta C⋅───────────────────⎟  + ⎜\\Delta \\Gamma⋅────────────────⎟  + ⎜\n",
       "  ╱    ⎜                           2⎟    ⎝              C + m⋅o_{\\infty}⎠    ⎝\n",
       "╲╱     ⎝         (C + m⋅o_{\\infty}) ⎠                                         \n",
       "\n",
       "______________________________________________________________________________\n",
       "                          2                               2                   \n",
       "              \\Gamma     ⎞    ⎛               \\Gamma     ⎞    ⎛         -\\Gamm\n",
       "\\Delta l⋅────────────────⎟  + ⎜\\Delta l₀⋅────────────────⎟  + ⎜\\Delta m⋅──────\n",
       "         C + m⋅o_{\\infty}⎠    ⎝          C + m⋅o_{\\infty}⎠    ⎜               \n",
       "                                                              ⎝             (C\n",
       "\n",
       "____________________________________________________________________\n",
       "                       2                                          2 \n",
       "a⋅o_{\\infty}⋅(l + l₀) ⎞    ⎛                  -\\Gamma⋅m⋅(l + l₀) ⎞  \n",
       "──────────────────────⎟  + ⎜\\Delta o_{\\infty}⋅───────────────────⎟  \n",
       "                2     ⎟    ⎜                                    2⎟  \n",
       " + m⋅o_{\\infty})      ⎠    ⎝                  (C + m⋅o_{\\infty}) ⎠  "
      ]
     },
     "metadata": {},
     "output_type": "display_data"
    }
   ],
   "source": [
    "h = hp.Helper(func_str=string, const_in=const, vars_in=var)\n",
    "h.calculate_error_function()\n",
    "h.display_data()"
   ]
  }
 ],
 "metadata": {
  "kernelspec": {
   "display_name": "Python 3",
   "language": "python",
   "name": "python3"
  },
  "language_info": {
   "codemirror_mode": {
    "name": "ipython",
    "version": 3
   },
   "file_extension": ".py",
   "mimetype": "text/x-python",
   "name": "python",
   "nbconvert_exporter": "python",
   "pygments_lexer": "ipython3",
   "version": "3.11.5"
  },
  "orig_nbformat": 4
 },
 "nbformat": 4,
 "nbformat_minor": 2
}
