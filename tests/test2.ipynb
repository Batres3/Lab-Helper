{
 "cells": [
  {
   "cell_type": "code",
   "execution_count": 1,
   "metadata": {},
   "outputs": [],
   "source": [
    "import labhelper as hp\n",
    "import sympy as sp"
   ]
  },
  {
   "cell_type": "code",
   "execution_count": 3,
   "metadata": {},
   "outputs": [],
   "source": [
    "string = \"A * B * C\"\n",
    "const = []\n",
    "var = [\"A\", \"B\", \"C\"]"
   ]
  },
  {
   "cell_type": "code",
   "execution_count": 4,
   "metadata": {},
   "outputs": [],
   "source": [
    "h = hp.Helper(func_str=string, const_in=const, vars_in=var)"
   ]
  },
  {
   "cell_type": "code",
   "execution_count": 5,
   "metadata": {},
   "outputs": [
    {
     "data": {
      "image/png": "[encoded data removed]",
      "text/latex": [
       "$\\displaystyle 5.0 C$"
      ],
      "text/plain": [
       "5.0⋅C"
      ]
     },
     "execution_count": 5,
     "metadata": {},
     "output_type": "execute_result"
    }
   ],
   "source": [
    "h.data_variables[\"A\"] = 5\n",
    "h.data_variables[\"B\"] = 1\n",
    "\n",
    "h.evaluate_function()"
   ]
  },
  {
   "cell_type": "code",
   "execution_count": 6,
   "metadata": {},
   "outputs": [
    {
     "data": {
      "image/png": "[encoded data removed]",
      "text/latex": [
       "$\\displaystyle 5.0 \\left(0.2504 C^{2} + \\Delta C^{2}\\right)^{0.5}$"
      ],
      "text/plain": [
       "                           0.5\n",
       "    ⎛        2           2⎞   \n",
       "5.0⋅⎝0.2504⋅C  + \\Delta C ⎠   "
      ]
     },
     "execution_count": 6,
     "metadata": {},
     "output_type": "execute_result"
    }
   ],
   "source": [
    "h.data_errors[\"\\Delta A\"] = 0.1\n",
    "h.data_errors[\"\\Delta B\"] = 0.5\n",
    "\n",
    "h.evaluate_error_function()"
   ]
  },
  {
   "cell_type": "code",
   "execution_count": 11,
   "metadata": {},
   "outputs": [
    {
     "name": "stdout",
     "output_type": "stream",
     "text": [
      "CPU times: total: 109 ms\n",
      "Wall time: 203 ms\n"
     ]
    },
    {
     "data": {
      "image/png": "[encoded data removed]",
      "text/latex": [
       "$\\displaystyle \\left[ 0.2 \\sqrt{\\frac{400.0 - C^{2}}{C^{2} + 4.0 \\Delta C^{2}}}, \\  - 0.2 \\sqrt{- \\frac{C^{2} - 400.0}{C^{2} + 4.0 \\Delta C^{2}}}\\right]$"
      ],
      "text/plain": [
       "⎡          ____________________             ____________________⎤\n",
       "⎢         ╱              2                 ╱    ⎛ 2        ⎞    ⎥\n",
       "⎢        ╱      400.0 - C                 ╱    -⎝C  - 400.0⎠    ⎥\n",
       "⎢0.2⋅   ╱   ────────────────── , -0.2⋅   ╱   ────────────────── ⎥\n",
       "⎢      ╱     2               2          ╱     2               2 ⎥\n",
       "⎣    ╲╱     C  + 4.0⋅\\Delta C         ╲╱     C  + 4.0⋅\\Delta C  ⎦"
      ]
     },
     "execution_count": 11,
     "metadata": {},
     "output_type": "execute_result"
    }
   ],
   "source": [
    "h.solve_error_function_for_variable(\"A\", 2)"
   ]
  }
 ],
 "metadata": {
  "kernelspec": {
   "display_name": "Python 3",
   "language": "python",
   "name": "python3"
  },
  "language_info": {
   "codemirror_mode": {
    "name": "ipython",
    "version": 3
   },
   "file_extension": ".py",
   "mimetype": "text/x-python",
   "name": "python",
   "nbconvert_exporter": "python",
   "pygments_lexer": "ipython3",
   "version": "3.11.5"
  },
  "orig_nbformat": 4
 },
 "nbformat": 4,
 "nbformat_minor": 2
}
